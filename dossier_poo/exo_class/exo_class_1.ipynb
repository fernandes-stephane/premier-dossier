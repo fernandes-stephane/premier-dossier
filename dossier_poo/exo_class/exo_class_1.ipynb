{
 "cells": [
  {
   "cell_type": "markdown",
   "metadata": {},
   "source": [
    "# <p style=\"font-family: serif; font-size:2.2em; text-align: center;\"><u>Créer des classes en Python</u></p> "
   ]
  },
  {
   "cell_type": "markdown",
   "metadata": {},
   "source": [
    "---"
   ]
  },
  {
   "cell_type": "markdown",
   "metadata": {},
   "source": [
    "##  <u>Exemple 1</u> : Creer un classe"
   ]
  },
  {
   "cell_type": "markdown",
   "metadata": {},
   "source": [
    "Définition de la classe introduite par l’instruction <b><i>class</i></b>.<br>La première méthode définit est une méthode très particulière appelé le <b><i>constructeur</i></b>.<br>Celle-ci s’appelle toujours <font color='red'><b><i>_init_()</i></b></font> quel que soit l’objet. "
   ]
  },
  {
   "cell_type": "code",
   "execution_count": 214,
   "metadata": {},
   "outputs": [],
   "source": [
    "class superstring : \n",
    "    def __init__(self, chaine):\n",
    "        self.ch = chaine\n",
    "    def ajoute(self, char):\n",
    "        self.ch += char\n",
    "    def insert(self, char, i):\n",
    "        self.ch = self.ch[:i] + char + self.ch[i:]\n",
    "    def upper(self):\n",
    "        self.ch = self.ch.upper()\n",
    "    def __str__(self):\n",
    "        return self.ch"
   ]
  },
  {
   "cell_type": "markdown",
   "metadata": {},
   "source": [
    "## <u>Exemple 1</u> : Instancier un objet"
   ]
  },
  {
   "cell_type": "code",
   "execution_count": 215,
   "metadata": {},
   "outputs": [
    {
     "name": "stdout",
     "output_type": "stream",
     "text": [
      "ECOUTEZ BIEN C'EST TRES IMPORTANT CE QUE JE DIS !\n"
     ]
    }
   ],
   "source": [
    "S1 = superstring(\"Ecoutez bien c'est important\")\n",
    "S1.ajoute(\" ce que je dis !\")\n",
    "S1.insert(\" tres\", 18)\n",
    "S1.upper()\n",
    "print(S1)"
   ]
  },
  {
   "cell_type": "markdown",
   "metadata": {},
   "source": [
    "---"
   ]
  },
  {
   "cell_type": "markdown",
   "metadata": {},
   "source": [
    "##  <u>Exercices</u> :"
   ]
  },
  {
   "cell_type": "markdown",
   "metadata": {},
   "source": [
    "### Ajouter une méthode capsdown() qui passe en minuscule les éléments de la classe « superstring »."
   ]
  },
  {
   "cell_type": "code",
   "execution_count": 216,
   "metadata": {},
   "outputs": [],
   "source": [
    "class superstring : \n",
    "    def __init__(self, chaine):\n",
    "        self.ch = chaine\n",
    "    def ajoute(self, char):\n",
    "        self.ch += char\n",
    "    def insert(self, char, i):\n",
    "        self.ch = self.ch[:i] + char + self.ch[i:]\n",
    "    def upper(self):\n",
    "        self.ch = self.ch.upper()\n",
    "    def capsdown(self):\n",
    "        self.ch = self.ch.lower()\n",
    "    def __str__(self):\n",
    "        return self.ch"
   ]
  },
  {
   "cell_type": "code",
   "execution_count": 217,
   "metadata": {},
   "outputs": [
    {
     "name": "stdout",
     "output_type": "stream",
     "text": [
      "ecoutez bien c'est tres important ce que je dis !\n"
     ]
    }
   ],
   "source": [
    "# Test methode capsdown()\n",
    "S1 = superstring(\"Ecoutez bien c'est important\")\n",
    "S1.ajoute(\" ce que je dis !\")\n",
    "S1.insert(\" tres\", 18)\n",
    "S1.capsdown()\n",
    "print(S1)"
   ]
  },
  {
   "cell_type": "markdown",
   "metadata": {},
   "source": [
    "### Ajouter une méthode tri() qui trie les mots de la classe « superstring » par ordre alphabétique. Utiliser les méthodes split(), sorted() et join()."
   ]
  },
  {
   "cell_type": "code",
   "execution_count": 218,
   "metadata": {},
   "outputs": [],
   "source": [
    "class superstring : \n",
    "    def __init__(self, chaine):\n",
    "        self.ch = chaine\n",
    "    def ajoute(self, char):\n",
    "        self.ch += char\n",
    "    def insert(self, char, i):\n",
    "        self.ch = self.ch[:i] + char + self.ch[i:]\n",
    "    def upper(self):\n",
    "        self.ch = self.ch.upper()\n",
    "    def capsdown(self):\n",
    "        self.ch = self.ch.lower()\n",
    "    def tri(self):\n",
    "        self.ch = self.ch.split()\n",
    "        self.ch.sort()\n",
    "        self.ch = \" \".join(self.ch)\n",
    "    def __str__(self) :\n",
    "        return self.ch"
   ]
  },
  {
   "cell_type": "code",
   "execution_count": 219,
   "metadata": {},
   "outputs": [
    {
     "name": "stdout",
     "output_type": "stream",
     "text": [
      "! bien c'est ce dis ecoutez important je que tres\n"
     ]
    }
   ],
   "source": [
    "# Test methode tri()\n",
    "S1 = superstring(\"Ecoutez bien c'est important\")\n",
    "S1.ajoute(\" ce que je dis !\")\n",
    "S1.insert(\" tres\", 18)\n",
    "S1.capsdown()\n",
    "S1.tri()\n",
    "print(S1)"
   ]
  },
  {
   "cell_type": "markdown",
   "metadata": {},
   "source": [
    "### Modifier la méthode __str__ de façon à avoir un affichage de la forme « type : superstring, content : ECOUTEZ BIEN C'EST TRÈS IMPORTANT CE QUE JE DIS ! »."
   ]
  },
  {
   "cell_type": "code",
   "execution_count": 220,
   "metadata": {},
   "outputs": [],
   "source": [
    "class superstring : \n",
    "    def __init__(self, chaine):\n",
    "        self.ch = chaine\n",
    "    def ajoute(self, char):\n",
    "        self.ch += char\n",
    "    def insert(self, char, i):\n",
    "        self.ch = self.ch[:i] + char + self.ch[i:]\n",
    "    def upper(self):\n",
    "        self.ch = self.ch.upper()\n",
    "    def capsdown(self):\n",
    "        self.ch = self.ch.lower()\n",
    "    def tri(self):\n",
    "        self.ch = self.ch.split()\n",
    "        self.ch.sort()\n",
    "        self.ch = \" \".join(self.ch)\n",
    "    def __str__(self) :\n",
    "        str = \"type : superstring, content : {}\".format(self.ch) + \"\\n\"\n",
    "        self.ch = str+self.ch\n",
    "        return self.ch"
   ]
  },
  {
   "cell_type": "code",
   "execution_count": 221,
   "metadata": {},
   "outputs": [
    {
     "name": "stdout",
     "output_type": "stream",
     "text": [
      "type : superstring, content : ! bien c'est ce dis ecoutez important je que tres\n",
      "! bien c'est ce dis ecoutez important je que tres\n"
     ]
    }
   ],
   "source": [
    "# Test methode str\n",
    "S1 = superstring(\"Ecoutez bien c'est important\")\n",
    "S1.ajoute(\" ce que je dis !\")\n",
    "S1.insert(\" tres\", 18)\n",
    "S1.capsdown()\n",
    "S1.tri()\n",
    "print(S1)"
   ]
  },
  {
   "cell_type": "markdown",
   "metadata": {},
   "source": [
    "---"
   ]
  },
  {
   "cell_type": "markdown",
   "metadata": {},
   "source": [
    "## <u>Exemple 2</u> : Une classe un peut plus élaborée"
   ]
  },
  {
   "cell_type": "markdown",
   "metadata": {},
   "source": [
    "Dans cette classe, l’or de la définition du constructeur nous instancions trois __attributs__.<br>Ensuite nous disposons de trois __méthodes__.<br>Une qui compare les attributs de deux __classes__."
   ]
  },
  {
   "cell_type": "code",
   "execution_count": 222,
   "metadata": {},
   "outputs": [],
   "source": [
    "class formulaire:\n",
    "    def __init__(self, nom, prenom, anneeNaissance):\n",
    "        self.nom = nom.upper()\n",
    "        self.prenom = prenom.upper()\n",
    "        self.anneeNaissance = anneeNaissance\n",
    "    def age(self):\n",
    "        return 2020 - self.anneeNaissance\n",
    "    def majeur(self):\n",
    "        return self.age() >= 18\n",
    "    def memeFamille(self, formulaire):\n",
    "        return self.nom == formulaire.nom"
   ]
  },
  {
   "cell_type": "code",
   "execution_count": 223,
   "metadata": {},
   "outputs": [
    {
     "name": "stdout",
     "output_type": "stream",
     "text": [
      "False\n",
      "True\n",
      "True\n"
     ]
    }
   ],
   "source": [
    "jd = formulaire('Doe', 'John', 2005)\n",
    "ad = formulaire('doe', 'Alice', 2000)\n",
    "\n",
    "print(jd.majeur())\n",
    "print(ad.majeur())\n",
    "print(jd.memeFamille(ad))"
   ]
  },
  {
   "cell_type": "markdown",
   "metadata": {},
   "source": [
    "---"
   ]
  },
  {
   "cell_type": "markdown",
   "metadata": {},
   "source": [
    "##  <u>Exercices</u> :"
   ]
  },
  {
   "cell_type": "markdown",
   "metadata": {},
   "source": [
    "### Ajouter une méthode qui vérifie si deux formulaires renvoient à la même personne."
   ]
  },
  {
   "cell_type": "code",
   "execution_count": 224,
   "metadata": {},
   "outputs": [],
   "source": [
    "class formulaire:\n",
    "    def __init__(self, nom, prenom, anneeNaissance):\n",
    "        self.nom = nom.upper()\n",
    "        self.prenom = prenom.upper()\n",
    "        self.anneeNaissance = anneeNaissance\n",
    "    def age(self):\n",
    "        return 2020 - self.anneeNaissance\n",
    "    def majeur(self):\n",
    "        return self.age() >= 18\n",
    "    def memeFamille(self, formulaire):\n",
    "        return self.nom == formulaire.nom\n",
    "    def memePersonne(self, formulaire):\n",
    "        return (self.nom == formulaire.nom) and  (self.prenom == formulaire.prenom) and (self.anneeNaissance == formulaire.anneeNaissance)\n",
    "        # return all([self.nom == formulaire.nom, self.prenom == formulaire.prenom, self.anneeNaissance == formulaire.anneeNaissance])"
   ]
  },
  {
   "cell_type": "code",
   "execution_count": 225,
   "metadata": {},
   "outputs": [
    {
     "name": "stdout",
     "output_type": "stream",
     "text": [
      "False\n",
      "True\n",
      "True\n",
      "False\n"
     ]
    }
   ],
   "source": [
    "# test methode memePersonne()\n",
    "jd = formulaire('Doe', 'John', 2005)\n",
    "ad = formulaire('doe', 'Alice', 2000)\n",
    "\n",
    "print(jd.majeur())\n",
    "print(ad.majeur())\n",
    "print(jd.memeFamille(ad))\n",
    "print(jd.memePersonne(ad))"
   ]
  },
  {
   "cell_type": "markdown",
   "metadata": {},
   "source": [
    "### Faire en sorte qu’on puisse afficher les formulaires sous la forme [nom, prenom, anneeNaissance]. Créer une liste de formulaire et triez la par ordre de naissance."
   ]
  },
  {
   "cell_type": "code",
   "execution_count": 226,
   "metadata": {},
   "outputs": [],
   "source": [
    "class formulaire:\n",
    "    def __init__(self, nom, prenom, anneeNaissance):\n",
    "        self.nom = nom.upper()\n",
    "        self.prenom = prenom.upper()\n",
    "        self.anneeNaissance = anneeNaissance\n",
    "    def age(self):\n",
    "        return 2020 - self.anneeNaissance\n",
    "    def majeur(self):\n",
    "        return self.age() >= 18\n",
    "    def memeFamille(self, formulaire):\n",
    "        return self.nom == formulaire.nom\n",
    "    def memePersonne(self, formulaire):\n",
    "        return (self.nom == formulaire.nom) and  (self.prenom == formulaire.prenom) and (self.anneeNaissance == formulaire.anneeNaissance)\n",
    "        # return all([self.nom == formulaire.nom, self.prenom == formulaire.prenom, self.anneeNaissance == formulaire.anneeNaissance])\n",
    "    def __str__(self):\n",
    "        s = self.nom + \", \" + self.prenom + \", \" + str(self.anneeNaissance)\n",
    "        return s"
   ]
  },
  {
   "cell_type": "code",
   "execution_count": 227,
   "metadata": {},
   "outputs": [],
   "source": [
    "jd = formulaire('Doe', 'John', 2005)\n",
    "ad = formulaire('doe', 'Alice', 2000)\n",
    "bt = formulaire('GROU', 'Lionel', 2004)"
   ]
  },
  {
   "cell_type": "code",
   "execution_count": 228,
   "metadata": {},
   "outputs": [
    {
     "name": "stdout",
     "output_type": "stream",
     "text": [
      "DOE, ALICE, 2000\n",
      "GROU, LIONEL, 2004\n",
      "DOE, JOHN, 2005\n"
     ]
    }
   ],
   "source": [
    "liste = [jd,ad, bt]\n",
    "liste.sort(key = lambda x:x.anneeNaissance)\n",
    "\n",
    "for i in liste:\n",
    "    print(i)"
   ]
  },
  {
   "cell_type": "markdown",
   "metadata": {},
   "source": [
    "---"
   ]
  },
  {
   "cell_type": "markdown",
   "metadata": {},
   "source": [
    "## <u>Exemple 3</u> : Composer des objets, déléguer des méthodes"
   ]
  },
  {
   "cell_type": "markdown",
   "metadata": {},
   "source": [
    "### <u>Première partie du code</u> :"
   ]
  },
  {
   "cell_type": "code",
   "execution_count": 233,
   "metadata": {},
   "outputs": [],
   "source": [
    "from random import randrange \n",
    "\n",
    "# On initialise toutes les valeurs et couleurs que peuvent prendre les cartes.\n",
    "valeurs = [i for i in range(1, 11)]\n",
    "couleurs = [i for i in range(1, 5)]\n",
    "\n",
    "# On choisi le nombre de tour que va durée la partie et on initialise le score a 0.\n",
    "nbTours = 7\n",
    "score = 0\n",
    "\n",
    "# Enfin on crée une liste de tuple pour représenter le paquet de cartes\n",
    "paquet = [(v, c) for v in valeurs for c in couleurs]\n",
    "main1, main2 = [], []"
   ]
  },
  {
   "cell_type": "markdown",
   "metadata": {},
   "source": [
    "### <u>Deuxième partie du code</u> :"
   ]
  },
  {
   "cell_type": "code",
   "execution_count": 230,
   "metadata": {},
   "outputs": [],
   "source": [
    "for i in range(nbTours):\n",
    "    # Le joueur 1 tire une carte aléatoirement dans le paquet\n",
    "    x = paquet[randrange(len(paquet))]\n",
    "    # La carte est ajoutée à la main du joueur 1\n",
    "    main1.append(x)\n",
    "    # La carte est supprimée du paquet\n",
    "    paquet.remove(x)\n",
    "    # Idem pour le joueur 2\n",
    "    y = paquet[randrange(len(paquet))]\n",
    "    main2.append(y)\n",
    "    paquet.remove(y)"
   ]
  },
  {
   "cell_type": "markdown",
   "metadata": {},
   "source": [
    "### <u>Troisième partie du code</u> :"
   ]
  },
  {
   "cell_type": "code",
   "execution_count": 231,
   "metadata": {},
   "outputs": [],
   "source": [
    "for i in range(nbTours):\n",
    "    if main1[i][0] > main2[i][0] or (\n",
    "    main1[i][0] == main2[i][0] and main1[i][1] > main2[i][1]):\n",
    "        score += 1\n",
    "    else :\n",
    "        score -= 1"
   ]
  },
  {
   "cell_type": "code",
   "execution_count": 232,
   "metadata": {},
   "outputs": [
    {
     "name": "stdout",
     "output_type": "stream",
     "text": [
      "Vainqueur : joueur 1\n"
     ]
    }
   ],
   "source": [
    "print(\"Vainqueur : \" + (\"joueur 1\" if score > 0 else \"joueur 2\") )"
   ]
  },
  {
   "cell_type": "markdown",
   "metadata": {},
   "source": [
    "<hr> "
   ]
  },
  {
   "cell_type": "markdown",
   "metadata": {},
   "source": [
    "##  <u>Travaille à faire</u> :"
   ]
  },
  {
   "cell_type": "markdown",
   "metadata": {},
   "source": [
    "### Créer une fonction plusGrandQue() qui doit faire la comparaison entre deux cartes (représenté par des tuples) et donc remplacer la troisième partie du code."
   ]
  },
  {
   "cell_type": "markdown",
   "metadata": {},
   "source": [
    "### Créer une fonction piocher() qui doit sélectionner l’ensemble des carte tiré par un joueur et donc remplacer la deuxième partie du code ."
   ]
  },
  {
   "cell_type": "markdown",
   "metadata": {},
   "source": [
    "### Créer une classe « carte » ayant les attribut couleur et valeur. Elle devra être appelé dans la fonction plusGrandQue()."
   ]
  },
  {
   "cell_type": "markdown",
   "metadata": {},
   "source": [
    "Suite des exercices cliquer  __[ici .](exo_class_2.ipynb)__"
   ]
  },
  {
   "cell_type": "markdown",
   "metadata": {},
   "source": [
    "lien de la correction __[ici .](DevData_-_Exercice_-_Composer_des_objets_deleguer_des_methodes.ipynb)__ "
   ]
  }
 ],
 "metadata": {
  "kernelspec": {
   "display_name": "Python 3",
   "language": "python",
   "name": "python3"
  },
  "language_info": {
   "codemirror_mode": {
    "name": "ipython",
    "version": 3
   },
   "file_extension": ".py",
   "mimetype": "text/x-python",
   "name": "python",
   "nbconvert_exporter": "python",
   "pygments_lexer": "ipython3",
   "version": "3.7.6"
  }
 },
 "nbformat": 4,
 "nbformat_minor": 4
}
