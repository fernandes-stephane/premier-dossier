{
 "cells": [
  {
   "cell_type": "markdown",
   "metadata": {},
   "source": [
    "# <p style=\"font-family: serif; font-size:2.2em; text-align: center;\"><u>Créer des classes en Python 2</u></p> "
   ]
  },
  {
   "cell_type": "markdown",
   "metadata": {},
   "source": [
    "---"
   ]
  },
  {
   "cell_type": "markdown",
   "metadata": {},
   "source": [
    "### <u>Première partie du code</u> :"
   ]
  },
  {
   "cell_type": "code",
   "execution_count": 3,
   "metadata": {},
   "outputs": [],
   "source": [
    "from random import randrange \n",
    "\n",
    "# On initialise toutes les valeurs et couleurs que peuvent prendre les cartes.\n",
    "valeurs = [i for i in range(1, 11)]\n",
    "couleurs = [i for i in range(1, 5)]\n",
    "\n",
    "# On choisi le nombre de tour que va durée la partie et on initialise le score a 0.\n",
    "nbTours = 7\n",
    "score = 0\n",
    "\n",
    "# Enfin on crée une liste de tuple pour représenter le paquet de cartes\n",
    "paquet = [(v, c) for v in valeurs for c in couleurs]\n",
    "main1, main2 = [], []"
   ]
  },
  {
   "cell_type": "markdown",
   "metadata": {},
   "source": [
    "### <u>Deuxième partie du code</u> :"
   ]
  },
  {
   "cell_type": "code",
   "execution_count": 4,
   "metadata": {},
   "outputs": [],
   "source": [
    "for i in range(nbTours):\n",
    "    # Le joueur 1 tire une carte aléatoirement dans le paquet\n",
    "    x = paquet[randrange(len(paquet))]\n",
    "    # La carte est ajoutée à la main du joueur 1\n",
    "    main1.append(x)\n",
    "    # La carte est supprimée du paquet\n",
    "    paquet.remove(x)\n",
    "    # Idem pour le joueur 2\n",
    "    y = paquet[randrange(len(paquet))]\n",
    "    main2.append(y)\n",
    "    paquet.remove(y)"
   ]
  },
  {
   "cell_type": "markdown",
   "metadata": {},
   "source": [
    "### <u>Troisième partie du code</u> :"
   ]
  },
  {
   "cell_type": "code",
   "execution_count": 5,
   "metadata": {},
   "outputs": [],
   "source": [
    "for i in range(nbTours):\n",
    "    if main1[i][0] > main2[i][0] or (\n",
    "    main1[i][0] == main2[i][0] and main1[i][1] > main2[i][1]):\n",
    "        score += 1\n",
    "    else :\n",
    "        score -= 1"
   ]
  },
  {
   "cell_type": "code",
   "execution_count": 6,
   "metadata": {},
   "outputs": [
    {
     "name": "stdout",
     "output_type": "stream",
     "text": [
      "Vainqueur : joueur 2\n"
     ]
    }
   ],
   "source": [
    "print(\"Vainqueur : \" + (\"joueur 1\" if score > 0 else \"joueur 2\"))"
   ]
  },
  {
   "cell_type": "markdown",
   "metadata": {},
   "source": [
    "<hr> "
   ]
  },
  {
   "cell_type": "markdown",
   "metadata": {},
   "source": [
    "##  <u>Travail à faire</u> :"
   ]
  },
  {
   "cell_type": "markdown",
   "metadata": {},
   "source": [
    "### Créer une fonction plusGrandQue() qui doit faire la comparaison entre deux cartes (représenté par des tuples) et donc remplacer la troisième partie du code."
   ]
  },
  {
   "cell_type": "code",
   "execution_count": 7,
   "metadata": {},
   "outputs": [
    {
     "name": "stdout",
     "output_type": "stream",
     "text": [
      "main du joueur 1 : [(9, 2), (6, 4), (2, 3), (10, 1), (9, 4), (8, 4), (10, 4)]\n",
      "main du joueur 2 : [(9, 1), (3, 3), (7, 2), (8, 1), (9, 3), (2, 2), (8, 3)]\n"
     ]
    }
   ],
   "source": [
    "# Réinitialisation des mains des joueurs\n",
    "paquet = [(v, c) for v in valeurs for c in couleurs]\n",
    "main1, main2 = [], []\n",
    "\n",
    "# Redistribution des cartes\n",
    "for i in range(nbTours):\n",
    "    x = paquet[randrange(len(paquet))]\n",
    "    main1.append(x)\n",
    "    paquet.remove(x)\n",
    "    y = paquet[randrange(len(paquet))]\n",
    "    main2.append(y)\n",
    "    paquet.remove(y)\n",
    "\n",
    "# On affiche la main des deux joueurs\n",
    "print(\"main du joueur 1 :\", main1)\n",
    "print(\"main du joueur 2 :\",main2)"
   ]
  },
  {
   "cell_type": "code",
   "execution_count": 8,
   "metadata": {},
   "outputs": [],
   "source": [
    "# On défini la fonction plusGrandQue qui compare les cartes des joueurs\n",
    "def plusGrandQue(carte1, carte2):\n",
    "    print(\"La carte du joueur 1 est\", carte1, \"La carte du joueur 2 est\", carte2)\n",
    "    if carte1[0] > carte2[0] or (\n",
    "    carte1[0] == carte2[0] and carte1[1] > carte2[1]):\n",
    "        print(\"Le joueur 1 gagne la manche!\")\n",
    "    else :\n",
    "        print(\"Le joueur 2 gagne la manche!\")"
   ]
  },
  {
   "cell_type": "code",
   "execution_count": 9,
   "metadata": {},
   "outputs": [
    {
     "name": "stdout",
     "output_type": "stream",
     "text": [
      "La carte du joueur 1 est (6, 4) La carte du joueur 2 est (3, 3)\n",
      "Le joueur 1 gagne la manche!\n"
     ]
    }
   ],
   "source": [
    "# Test de la fonction plusGrandQue\n",
    "plusGrandQue(main1[1], main2[1])"
   ]
  },
  {
   "cell_type": "code",
   "execution_count": 10,
   "metadata": {},
   "outputs": [
    {
     "data": {
      "text/plain": [
       "'\\nfor i in range(nbTours):\\n    plusGrandQue(main1[1], main2[1])\\n    print(\"\\n\")\\n'"
      ]
     },
     "execution_count": 10,
     "metadata": {},
     "output_type": "execute_result"
    }
   ],
   "source": [
    "# Test de la fonction plusGrandQue dans un boucle\n",
    "\"\"\"\n",
    "for i in range(nbTours):\n",
    "    plusGrandQue(main1[1], main2[1])\n",
    "    print(\"\\n\")\n",
    "\"\"\""
   ]
  },
  {
   "cell_type": "markdown",
   "metadata": {},
   "source": [
    "---"
   ]
  },
  {
   "cell_type": "markdown",
   "metadata": {},
   "source": [
    "### Créer une fonction piocher() qui doit sélectionner l’ensemble des carte tiré par un joueur et donc remplacer la deuxième partie du code ."
   ]
  },
  {
   "cell_type": "code",
   "execution_count": 11,
   "metadata": {},
   "outputs": [],
   "source": [
    "# Définition de la fonction piocher\n",
    "def piocher(nbCartes, paquet):\n",
    "    main = []\n",
    "    for i in range(nbCartes):\n",
    "        x = paquet[randrange(len(paquet))]\n",
    "        main.append(x)\n",
    "        paquet.remove(x)\n",
    "    return main"
   ]
  },
  {
   "cell_type": "code",
   "execution_count": 12,
   "metadata": {},
   "outputs": [],
   "source": [
    "# Réinitialisation des mains des joueurs\n",
    "paquet = [(v, c) for v in valeurs for c in couleurs]\n",
    "main1, main2 = [], []"
   ]
  },
  {
   "cell_type": "code",
   "execution_count": 13,
   "metadata": {},
   "outputs": [
    {
     "data": {
      "text/plain": [
       "[(5, 3), (3, 1), (2, 2), (1, 3), (5, 1), (6, 2), (3, 3)]"
      ]
     },
     "execution_count": 13,
     "metadata": {},
     "output_type": "execute_result"
    }
   ],
   "source": [
    "# Test de la fonction piocher\n",
    "piocher(7,paquet)"
   ]
  },
  {
   "cell_type": "markdown",
   "metadata": {},
   "source": [
    "---"
   ]
  },
  {
   "cell_type": "markdown",
   "metadata": {},
   "source": [
    "### Créer une classe « carte » ayant les attribut couleur et valeur. Elle devra être appelé dans la fonction plusGrandQue()."
   ]
  },
  {
   "cell_type": "code",
   "execution_count": 14,
   "metadata": {},
   "outputs": [],
   "source": [
    "from random import randrange \n",
    "\n",
    "# On initialise toutes les valeurs et couleurs que peuvent prendre les cartes.\n",
    "valeurs = [i for i in range(1, 11)]\n",
    "couleurs = [i for i in range(1, 5)]\n",
    "\n",
    "# On choisi le nombre de tour que va durée la partie et on initialise le score a 0.\n",
    "nbTours = 7\n",
    "score = 0\n"
   ]
  },
  {
   "cell_type": "code",
   "execution_count": 15,
   "metadata": {},
   "outputs": [],
   "source": [
    "# On defini la classe carte\n",
    "class carte:\n",
    "    def __init__(self,  valeur, couleur):\n",
    "        self.valeur = valeur\n",
    "        self.couleur = couleur\n",
    "    # la fonction __repr__ renvoie un objet(ici un tuple)\n",
    "    def __repr__(self):\n",
    "        return repr((self.valeur,self.couleur))"
   ]
  },
  {
   "cell_type": "code",
   "execution_count": 16,
   "metadata": {},
   "outputs": [],
   "source": [
    "# On modifie la fonction plusGrandQue\n",
    "def plusGrandQue(carte1, carte2):\n",
    "    print(\"La carte du joueur 1 est\", carte1, \"La carte du joueur 2 est\", carte2)\n",
    "    # On compare les attributs de la classe carte\n",
    "    if carte1.valeur > carte2.valeur or (\n",
    "    carte1.valeur == carte2.valeur and carte1.couleur > carte2.couleur):\n",
    "        print(\"Le joueur 1 gagne la manche!\")\n",
    "        score = 1\n",
    "    else :\n",
    "        print(\"Le joueur 2 gagne la manche!\")\n",
    "        score = -1\n",
    "    return score"
   ]
  },
  {
   "cell_type": "code",
   "execution_count": 17,
   "metadata": {},
   "outputs": [],
   "source": [
    "# On modifie la fonction piocher\n",
    "def piocher(nbCartes, paquet):\n",
    "    main1 = []\n",
    "    main2 = []\n",
    "    for i in range(nbCartes):\n",
    "        x = paquet[randrange(len(paquet))]\n",
    "        main1.append(x)\n",
    "        paquet.remove(x)\n",
    "        y = paquet[randrange(len(paquet))]\n",
    "        main2.append(y)\n",
    "        paquet.remove(y)\n",
    "    # On retourne un tuple de 2 liste\n",
    "    return main1, main2"
   ]
  },
  {
   "cell_type": "code",
   "execution_count": 18,
   "metadata": {},
   "outputs": [],
   "source": [
    "# On créer une instance de la classe carte pour chaque carte du paquet\n",
    "paquet = [carte(v, c) for v in valeurs for c in couleurs]\n",
    "# On utilise la fonction piocher pour sélectionner l’ensemble des carte tiré par un joueur\n",
    "main = piocher(nbTours,paquet)"
   ]
  },
  {
   "cell_type": "code",
   "execution_count": 19,
   "metadata": {},
   "outputs": [
    {
     "name": "stdout",
     "output_type": "stream",
     "text": [
      "La carte du joueur 1 est (1, 4) La carte du joueur 2 est (6, 3)\n",
      "Le joueur 2 gagne la manche!\n",
      "La carte du joueur 1 est (2, 3) La carte du joueur 2 est (6, 4)\n",
      "Le joueur 2 gagne la manche!\n",
      "La carte du joueur 1 est (4, 3) La carte du joueur 2 est (8, 2)\n",
      "Le joueur 2 gagne la manche!\n",
      "La carte du joueur 1 est (3, 2) La carte du joueur 2 est (3, 1)\n",
      "Le joueur 1 gagne la manche!\n",
      "La carte du joueur 1 est (3, 4) La carte du joueur 2 est (10, 2)\n",
      "Le joueur 2 gagne la manche!\n",
      "La carte du joueur 1 est (5, 4) La carte du joueur 2 est (7, 1)\n",
      "Le joueur 2 gagne la manche!\n",
      "La carte du joueur 1 est (8, 3) La carte du joueur 2 est (8, 1)\n",
      "Le joueur 1 gagne la manche!\n",
      "\n",
      "Vainqueur : joueur 2\n"
     ]
    }
   ],
   "source": [
    "for i in range(nbTours):\n",
    "    # On appele la classe carte dans la fonction plusGrandQue et On assigne le score a la variable score\n",
    "    score += plusGrandQue(main[0][i], main[1][i])\n",
    "print(\"\\nVainqueur : \" + (\"joueur 1\" if score > 0 else \"joueur 2\"))"
   ]
  },
  {
   "cell_type": "markdown",
   "metadata": {},
   "source": [
    "---"
   ]
  },
  {
   "cell_type": "markdown",
   "metadata": {},
   "source": [
    "##  <u>Travail à faire 2</u> :"
   ]
  },
  {
   "cell_type": "markdown",
   "metadata": {},
   "source": [
    "### Créer une classe « partie » qui nous permettra d’effectuer différentes partie avec des jeux différents.\n",
    "C’est-à-dire que l’on peut choisir :<br>• Un nombre de couleurs autre que 4.<br>• Un nombre de valeurs autre que 10.<br>• Un nombre de tour autre que 7.\n",
    "### A vous de trouver :\n",
    "• Quelle sont les attribut à définir dans la méthode <font color='red'><b><i>_init_()</i></b></font><br>• Quelle autre méthode définir et quelle seront ces attributs."
   ]
  },
  {
   "cell_type": "code",
   "execution_count": 20,
   "metadata": {},
   "outputs": [],
   "source": [
    "# Créer une classe partie\n",
    "class partie:\n",
    "    # On initialise les valeurs\n",
    "    def __init__(self, valeurs, couleurs, nbTours):\n",
    "        self.valeurs = [i for i in range(1, valeurs+1)]\n",
    "        self.couleurs = [i for i in range(1, couleurs+1)]\n",
    "        self.nbTours = nbTours\n",
    "        self.score = 0\n",
    "        # On defini une classe carte imbriquée\n",
    "        class carte:\n",
    "            def __init__(self, couleur, valeur):\n",
    "                self.couleur = couleur\n",
    "                self.valeur = valeur\n",
    "        # On créer les attributs represantant un paquet de carte et les mains des joueurs\n",
    "        self.paquet = [carte(v, c) for v in self.valeurs for c in self.couleurs]\n",
    "        self.main1 = []\n",
    "        self.main2 = []\n",
    "        # Pour chaque tour les joueurs tirent une carte et la retire du paquet\n",
    "        for i in range(nbTours):\n",
    "                x = self.paquet[randrange(len(self.paquet))]\n",
    "                self.main1.append(x)\n",
    "                self.paquet.remove(x)\n",
    "                y = self.paquet[randrange(len(self.paquet))]\n",
    "                self.main2.append(y)\n",
    "                self.paquet.remove(y)\n",
    "                # On affiche la carte du joueur1 et du joueur2\n",
    "                print(\"joueur1: \"+str(self.main1[i].valeur)+\",\"+str(self.main1[i].couleur),\"joueur2 :\"+str(self.main2[i].valeur)+\",\"+str(self.main2[i].couleur))\n",
    "                # On compare les cartes entre elles\n",
    "                if self.main1[i].valeur > self.main2[i].valeur or (\n",
    "            self.main1[i].valeur == self.main2[i].valeur and self.main1[i].couleur > self.main2[i].couleur):\n",
    "                    print(\"Le joueur 1 gagne la manche!\")\n",
    "                    score = 1\n",
    "                else :\n",
    "                    print(\"Le joueur 2 gagne la manche!\")\n",
    "                    score = -1\n",
    "                print(\"\\n\")\n",
    "        print(\"\\nVainqueur : \" + (\"joueur 1\" if score > 0 else \"joueur 2\"))"
   ]
  },
  {
   "cell_type": "code",
   "execution_count": 38,
   "metadata": {},
   "outputs": [
    {
     "name": "stdout",
     "output_type": "stream",
     "text": [
      "joueur1: 1,2 joueur2 :4,2\n",
      "Le joueur 2 gagne la manche!\n",
      "\n",
      "\n",
      "joueur1: 10,4 joueur2 :9,2\n",
      "Le joueur 1 gagne la manche!\n",
      "\n",
      "\n",
      "joueur1: 3,4 joueur2 :10,3\n",
      "Le joueur 2 gagne la manche!\n",
      "\n",
      "\n",
      "joueur1: 10,2 joueur2 :1,1\n",
      "Le joueur 1 gagne la manche!\n",
      "\n",
      "\n",
      "joueur1: 11,3 joueur2 :2,2\n",
      "Le joueur 1 gagne la manche!\n",
      "\n",
      "\n",
      "joueur1: 11,2 joueur2 :4,1\n",
      "Le joueur 1 gagne la manche!\n",
      "\n",
      "\n",
      "joueur1: 1,4 joueur2 :5,1\n",
      "Le joueur 2 gagne la manche!\n",
      "\n",
      "\n",
      "joueur1: 2,4 joueur2 :4,4\n",
      "Le joueur 2 gagne la manche!\n",
      "\n",
      "\n",
      "joueur1: 1,3 joueur2 :5,4\n",
      "Le joueur 2 gagne la manche!\n",
      "\n",
      "\n",
      "\n",
      "Vainqueur : joueur 2\n"
     ]
    },
    {
     "data": {
      "text/plain": [
       "<__main__.partie at 0x7fb21c380f50>"
      ]
     },
     "execution_count": 38,
     "metadata": {},
     "output_type": "execute_result"
    }
   ],
   "source": [
    "# Test classe partie\n",
    "partie(4, 11, 9)"
   ]
  },
  {
   "cell_type": "markdown",
   "metadata": {},
   "source": [
    "---"
   ]
  },
  {
   "cell_type": "markdown",
   "metadata": {},
   "source": [
    "lien du cour cliquer __[ici .](exo_class_1.ipynb)__"
   ]
  },
  {
   "cell_type": "markdown",
   "metadata": {},
   "source": [
    "lien de la correction __[ici .](DevData_-_Exercice_-_Composer_des_objets_deleguer_des_methodes.ipynb)__ "
   ]
  }
 ],
 "metadata": {
  "kernelspec": {
   "display_name": "Python 3",
   "language": "python",
   "name": "python3"
  },
  "language_info": {
   "codemirror_mode": {
    "name": "ipython",
    "version": 3
   },
   "file_extension": ".py",
   "mimetype": "text/x-python",
   "name": "python",
   "nbconvert_exporter": "python",
   "pygments_lexer": "ipython3",
   "version": "3.7.6"
  }
 },
 "nbformat": 4,
 "nbformat_minor": 4
}
