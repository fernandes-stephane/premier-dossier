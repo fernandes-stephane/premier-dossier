{
 "cells": [
  {
   "cell_type": "markdown",
   "metadata": {},
   "source": [
    "# <p style=\"font-family: serif; font-size:2.2em;\"><u>Projet jdc</u></p>  Projet Jeu de créatures qui s’affronte."
   ]
  },
  {
   "cell_type": "markdown",
   "metadata": {},
   "source": [
    "---"
   ]
  },
  {
   "cell_type": "markdown",
   "metadata": {},
   "source": [
    "### Des créature se déplace sur un damier, d’une case à la fois. Si l’une d’elles arrive sur la case de l’autre, elle la capture et à gagné."
   ]
  },
  {
   "cell_type": "markdown",
   "metadata": {},
   "source": [
    "lien du projet cliquer __[ici .](Projet_jeu_creature.pdf)__"
   ]
  },
  {
   "cell_type": "code",
   "execution_count": null,
   "metadata": {},
   "outputs": [],
   "source": []
  },
  {
   "cell_type": "code",
   "execution_count": null,
   "metadata": {},
   "outputs": [],
   "source": []
  },
  {
   "cell_type": "code",
   "execution_count": null,
   "metadata": {},
   "outputs": [],
   "source": []
  },
  {
   "cell_type": "markdown",
   "metadata": {},
   "source": [
    "---"
   ]
  },
  {
   "cell_type": "markdown",
   "metadata": {},
   "source": [
    "### <u>Correction</u> :"
   ]
  },
  {
   "cell_type": "code",
   "execution_count": 3,
   "metadata": {},
   "outputs": [],
   "source": [
    "class Case:\n",
    "    def __init__(self, x, y):\n",
    "        self.x = x\n",
    "        self.y = y\n",
    "        \n",
    "    def __str__(self):\n",
    "        return \"Case(x=\"+str(self.x)+\", y=\"+str(self.y)+\")\"\n",
    "\n",
    "    def adjacentes(self, jeu):\n",
    "        return [c for c in jeu.listeCases if self != c and abs(c.x-self.x)<2 and abs(c.y-self.y)<2]"
   ]
  },
  {
   "cell_type": "code",
   "execution_count": 2,
   "metadata": {},
   "outputs": [],
   "source": [
    "class Creature:\n",
    "    def __init__(self, nom, position):\n",
    "        self.nom = nom\n",
    "        self.position = position\n",
    "        \n",
    "    def __str__(self):\n",
    "        return self.nom+\" : \"+str(self.position)"
   ]
  },
  {
   "cell_type": "code",
   "execution_count": 1,
   "metadata": {},
   "outputs": [],
   "source": [
    "class Jeu:\n",
    "    def __init__(self, listeCases, listeCreatures):\n",
    "        self.listeCases = listeCases\n",
    "        self.listeCreatures = listeCreatures\n",
    "        self.tour = 1\n",
    "        self.actif = listeCreatures[0]\n",
    "    \n",
    "    \n",
    "    def __str__(self):\n",
    "        s = \"Tour \"+str(self.tour)+\" \"\n",
    "        for c in self.listeCreatures:\n",
    "            s += str(c) + \" \"\n",
    "        s += \"actif = \" +str(self.actif.nom)\n",
    "        return s\n",
    "    \n",
    "    def estOccupee(self, case):\n",
    "        return any(b.position == case for b in self.listeCreatures)\n",
    "        #return case in [i.position for i in self.listedescreatures]"
   ]
  },
  {
   "cell_type": "code",
   "execution_count": null,
   "metadata": {},
   "outputs": [],
   "source": []
  },
  {
   "cell_type": "code",
   "execution_count": null,
   "metadata": {},
   "outputs": [],
   "source": []
  },
  {
   "cell_type": "code",
   "execution_count": null,
   "metadata": {},
   "outputs": [],
   "source": []
  },
  {
   "cell_type": "code",
   "execution_count": null,
   "metadata": {},
   "outputs": [],
   "source": []
  },
  {
   "cell_type": "code",
   "execution_count": null,
   "metadata": {},
   "outputs": [],
   "source": []
  },
  {
   "cell_type": "code",
   "execution_count": null,
   "metadata": {},
   "outputs": [],
   "source": []
  },
  {
   "cell_type": "code",
   "execution_count": null,
   "metadata": {},
   "outputs": [],
   "source": []
  },
  {
   "cell_type": "code",
   "execution_count": null,
   "metadata": {},
   "outputs": [],
   "source": []
  },
  {
   "cell_type": "code",
   "execution_count": null,
   "metadata": {},
   "outputs": [],
   "source": []
  },
  {
   "cell_type": "code",
   "execution_count": null,
   "metadata": {},
   "outputs": [],
   "source": []
  },
  {
   "cell_type": "code",
   "execution_count": null,
   "metadata": {},
   "outputs": [],
   "source": []
  },
  {
   "cell_type": "code",
   "execution_count": 29,
   "metadata": {},
   "outputs": [],
   "source": [
    "class Jeu :\n",
    "    def __init__(self, listesDesCases, listeDesCreatures, tour, actif):\n",
    "        self.listesDesCases = listesDesCases\n",
    "        self.listeDesCreatures = listeDesCreatures\n",
    "        self.tour = tour\n",
    "        self.actif = actif\n",
    "        \n",
    "    def estOccupee(case):\n",
    "        "
   ]
  },
  {
   "cell_type": "code",
   "execution_count": null,
   "metadata": {},
   "outputs": [],
   "source": []
  },
  {
   "cell_type": "code",
   "execution_count": 28,
   "metadata": {},
   "outputs": [],
   "source": [
    "class Creature :\n",
    "    def __init__(self, nom, position):\n",
    "        self.nom = nom\n",
    "        self.position = position\n",
    "        \n",
    "    def choisirCible(jeu):\n",
    "        "
   ]
  },
  {
   "cell_type": "code",
   "execution_count": 27,
   "metadata": {},
   "outputs": [],
   "source": [
    "class Case :\n",
    "    def __init__(self, x, y):\n",
    "        self.x = x\n",
    "        self.y = y\n",
    "        \n",
    "    def adjacentes(jeu):\n",
    "            "
   ]
  },
  {
   "cell_type": "code",
   "execution_count": 30,
   "metadata": {},
   "outputs": [],
   "source": [
    "case1 = Case(11, 4)"
   ]
  },
  {
   "cell_type": "code",
   "execution_count": null,
   "metadata": {},
   "outputs": [],
   "source": [
    "case1.adjacente(jeu)"
   ]
  },
  {
   "cell_type": "code",
   "execution_count": 33,
   "metadata": {},
   "outputs": [
    {
     "data": {
      "text/plain": [
       "4"
      ]
     },
     "execution_count": 33,
     "metadata": {},
     "output_type": "execute_result"
    }
   ],
   "source": [
    "case1.y"
   ]
  },
  {
   "cell_type": "code",
   "execution_count": null,
   "metadata": {},
   "outputs": [],
   "source": []
  },
  {
   "cell_type": "code",
   "execution_count": null,
   "metadata": {},
   "outputs": [],
   "source": []
  },
  {
   "cell_type": "code",
   "execution_count": null,
   "metadata": {},
   "outputs": [],
   "source": [
    "from random import randrange\n",
    "\n",
    "nbTours = 7\n",
    "score = 0\n",
    "\n",
    "class Carte:\n",
    "    def __init__(self, couleur, valeur):\n",
    "        self.couleur = couleur\n",
    "        self.valeur = valeur\n",
    "\n",
    "class Partie:\n",
    "    def __init__(self, tours, couleurs, valeurs):\n",
    "        self.score = 0\n",
    "        self.nbTours = tours\n",
    "        self.paquet = [Carte(v, c)\n",
    "                       for v in range(valeurs + 1)\n",
    "                       for c in range(couleurs + 1)]\n",
    "    def jouer(self):\n",
    "        self.main1 = piocher(self.paquet, self.nbTours)\n",
    "        self.main2 = piocher(self.paquet, self.nbTours)\n",
    "        for i in range(self.nbTours):\n",
    "            self.score += (1 if plusGrandQue(\n",
    "            self.main1[i], self.main2[i]) else -1)\n",
    "        print(\" Vainqueur : \" + \n",
    "              (\"joueur 1\" if self.score > 0 else \"joueur 2\"))\n",
    "                \n",
    "def plusGrandQue(carte1, carte2):\n",
    "    return carte1.valeur > carte2.valeur or (\n",
    "    carte1.valeur == carte2.valeur and\n",
    "    carte1.couleur > carte2.couleur)\n",
    "\n",
    "def piocher(paquet, nb):\n",
    "    main = []\n",
    "    for i in range(nb):\n",
    "            x = paquet[randrange(len(paquet))]\n",
    "            main.append(x)\n",
    "            paquet.remove(x)\n",
    "    return main\n",
    "            \n"
   ]
  },
  {
   "cell_type": "code",
   "execution_count": null,
   "metadata": {},
   "outputs": [],
   "source": []
  },
  {
   "cell_type": "code",
   "execution_count": null,
   "metadata": {},
   "outputs": [],
   "source": []
  },
  {
   "cell_type": "code",
   "execution_count": 1,
   "metadata": {},
   "outputs": [],
   "source": [
    "#class d'un coté et les instances \n",
    "\n",
    "\n",
    "class voiture:\n",
    "\n",
    "    roues = 4 \n",
    "    volant = 1\n",
    "\n",
    "    def __init__(self, puissance, nom, poids):  #fonction constructeur \n",
    "\n",
    "        self.puissance = puissance\n",
    "        self.nom = nom\n",
    "        self.poids = poids\n",
    "        self.poid_puissance = self._poid_puissance() \n",
    "\n",
    "    def str(self):  #fonction qui te retrourn une valeur à l'appel de l'instance \n",
    "        return self.nom + \" \" + str(self.puissance)\n",
    "\n",
    "    def _avancer(self):\n",
    "        print(\"vroom\", self.nom)\n",
    "\n",
    "    def _poid_puissance(self):\n",
    "        rapport = self.poids / self.puissance\n",
    "        return rapport"
   ]
  },
  {
   "cell_type": "code",
   "execution_count": 3,
   "metadata": {},
   "outputs": [
    {
     "name": "stdout",
     "output_type": "stream",
     "text": [
      "<__main__.voiture object at 0x7f36d45121d0>\n",
      "400\n",
      "400\n"
     ]
    }
   ],
   "source": [
    "class voiture:\n",
    "\n",
    "    roues = 4 \n",
    "    volant = 1\n",
    "\n",
    "    def __init__(self, puissance, nom, poids):  #fonction constructeur \n",
    "\n",
    "        self.puissance = puissance\n",
    "        self.nom = nom\n",
    "        self.poids = poids\n",
    "        self.poid_puissance = self._poid_puissance() \n",
    "\n",
    "    def str(self):  #fonction qui te retrourn une valeur à l'appel de l'instance \n",
    "        return self.nom + \" \" + str(self.puissance)\n",
    "\n",
    "    def _avancer(self):\n",
    "        print(\"vroom\", self.nom)\n",
    "\n",
    "    def _poid_puissance(self):\n",
    "        rapport = self.poids / self.puissance\n",
    "        return rapport\n",
    "\n",
    "    def _changePuissance(self, nouvellePuissance):\n",
    "        self.puissance = nouvellePuissance\n",
    "\n",
    "    def _getPuissance(self):\n",
    "        return self.puissance\n",
    "\n",
    "\n",
    "\n",
    "c3 = voiture(200, \"citroneau\", 1400)\n",
    "print(c3)\n",
    "c3._changePuissance(400)\n",
    "print(c3.puissance)\n",
    "print(c3._getPuissance())"
   ]
  },
  {
   "cell_type": "code",
   "execution_count": 8,
   "metadata": {},
   "outputs": [],
   "source": [
    "class voiture:\n",
    "    roue = 4\n",
    "    volant = 1\n",
    "    \n",
    "    def _avancer(self):\n",
    "        print(\"vroom\")\n",
    "    \n",
    "class suv(voiture):\n",
    "    def __init__(self, poids, puissance):\n",
    "        self.poids = poids\n",
    "        self.puissance = puissance\n",
    "\n",
    "jano = suv(100, 140)"
   ]
  },
  {
   "cell_type": "code",
   "execution_count": 9,
   "metadata": {},
   "outputs": [
    {
     "name": "stdout",
     "output_type": "stream",
     "text": [
      "vroom\n"
     ]
    }
   ],
   "source": [
    "jano._avancer()"
   ]
  },
  {
   "cell_type": "code",
   "execution_count": 10,
   "metadata": {},
   "outputs": [
    {
     "data": {
      "text/plain": [
       "100"
      ]
     },
     "execution_count": 10,
     "metadata": {},
     "output_type": "execute_result"
    }
   ],
   "source": [
    "jano.poids"
   ]
  },
  {
   "cell_type": "code",
   "execution_count": 11,
   "metadata": {},
   "outputs": [
    {
     "data": {
      "text/plain": [
       "1"
      ]
     },
     "execution_count": 11,
     "metadata": {},
     "output_type": "execute_result"
    }
   ],
   "source": [
    "jano.volant"
   ]
  },
  {
   "cell_type": "code",
   "execution_count": null,
   "metadata": {},
   "outputs": [],
   "source": []
  }
 ],
 "metadata": {
  "kernelspec": {
   "display_name": "Python 3",
   "language": "python",
   "name": "python3"
  },
  "language_info": {
   "codemirror_mode": {
    "name": "ipython",
    "version": 3
   },
   "file_extension": ".py",
   "mimetype": "text/x-python",
   "name": "python",
   "nbconvert_exporter": "python",
   "pygments_lexer": "ipython3",
   "version": "3.7.6"
  }
 },
 "nbformat": 4,
 "nbformat_minor": 4
}
