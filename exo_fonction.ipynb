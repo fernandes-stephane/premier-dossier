{
 "cells": [
  {
   "cell_type": "code",
   "execution_count": 7,
   "metadata": {},
   "outputs": [
    {
     "name": "stdout",
     "output_type": "stream",
     "text": [
      "Je\n",
      "Stephane\n",
      "Fernandes\n"
     ]
    }
   ],
   "source": [
    "# 1. Ecrire une fonction hascap(s) qui renvoie tout les mots de la chaînes commençant par une majuscule.\n",
    "# Pour ce faire utiliser la fonction ord() pour obtenir le code ASCII des lettres\n",
    "# (Les lettres majuscule ont un code allant de 65 à 90).\n",
    "\n",
    "\n",
    "user = \"Je m'appeles Stephane Fernandes\"\n",
    "\n",
    "\n",
    "def hascap(s):\n",
    "    u = s.split()\n",
    "    for i in u:        \n",
    "        if ord(i[0]) > 65 and ord(i[0]) < 90:\n",
    "            print(i)\n",
    "            \n",
    "\n",
    "\n",
    "hascap(user)"
   ]
  },
  {
   "cell_type": "code",
   "execution_count": 20,
   "metadata": {},
   "outputs": [
    {
     "name": "stdout",
     "output_type": "stream",
     "text": [
      "['Le', 'prix', 'est', 'de', 'presque', 54, 'euros']\n"
     ]
    },
    {
     "data": {
      "text/plain": [
       "' \\ns = \"Le pris est de 27 euros\"\\n\\ndef inflation(s):\\n    split_s = s.split()\\n    for i,j in enumerate(split_s):\\n        if j.isnumeric():\\n            split_s[i] = str(int(j)*2)\\n    resultat = \" \".join(split_s)\\n    print(resultat)\\n\\ninflation(s)\\n\\n'"
      ]
     },
     "execution_count": 20,
     "metadata": {},
     "output_type": "execute_result"
    }
   ],
   "source": [
    "# 2. Proposer une fonction inflation(s) qui va doubler la valeur de tout les nombre dans la chaines.\n",
    "# Exemple : « Le prix est de 27 euros » devient « Le prix est de 54 euros ».\n",
    "# Utiliser la fonction enumerate() pour lancer une boucle for (Taper dans Google « enumerate boucle for ».)\n",
    "\n",
    "\n",
    "\n",
    "def inflation(s):\n",
    "    s = s.split()\n",
    "    for i,nombre in enumerate(s):\n",
    "        if nombre.isnumeric():\n",
    "            s[i]= int(nombre)*2\n",
    "\n",
    "    print(s)\n",
    "inflation(\"Le prix est de presque 27 euros\")\n",
    "\n",
    "\n",
    "\n",
    "# correction\n",
    "\"\"\" \n",
    "s = \"Le pris est de 27 euros\"\n",
    "\n",
    "def inflation(s):\n",
    "    split_s = s.split()\n",
    "    for i,j in enumerate(split_s):\n",
    "        if j.isnumeric():\n",
    "            split_s[i] = str(int(j)*2)\n",
    "    resultat = \" \".join(split_s)\n",
    "    print(resultat)\n",
    "\n",
    "inflation(s)\n",
    "\n",
    "\"\"\"\n",
    "\n",
    "\n"
   ]
  },
  {
   "cell_type": "code",
   "execution_count": 3,
   "metadata": {},
   "outputs": [
    {
     "name": "stdout",
     "output_type": "stream",
     "text": [
      "Onze ans déjà que cela 23\n",
      "passe vite Vous vous 21\n",
      "étiez servis simplement 24\n",
      "de vos armes la mort 21\n",
      "n‘éblouit pas les yeux 23\n",
      "des partisans Vous aviez 25\n",
      "vos portraits sur les 22\n",
      "['Onze ans déjà que cela', 'passe vite Vous vous', 'étiez servis simplement', 'de vos armes la mort', 'n‘éblouit pas les yeux', 'des partisans Vous aviez', 'vos portraits sur les', 'murs de nos villes']\n"
     ]
    }
   ],
   "source": [
    "# 3. Proposer une fonction lignes qui à partir d’une long chaîne s (>100 caractères) renvoie une \n",
    "# liste de chaîne de caractères contenant chacun 24 caractères maximum et terminant par un espace.\n",
    "\n",
    "\n",
    "s = \"Onze ans déjà que cela passe vite Vous \"\n",
    "s += \"vous étiez servis simplement de vos armes la \"\n",
    "s += \"mort n‘éblouit pas les yeux des partisans Vous \"\n",
    "s += \"aviez vos portraits sur les murs de nos villes \"\n",
    "\n",
    "def limit24Char(s, limit):\n",
    "    words = s.split()\n",
    "    lineSplited = \"\"\n",
    "    lineSplitedLst = []\n",
    "    for word in words:\n",
    "        if len(lineSplited) + len(word) > limit:\n",
    "            print(lineSplited[:-1], len(lineSplited))\n",
    "            lineSplitedLst.append(lineSplited[:-1])\n",
    "            lineSplited = word + \" \"\n",
    "        else:\n",
    "            lineSplited += word + \" \"\n",
    "    lineSplitedLst.append(lineSplited[:-1])\n",
    "    print(lineSplitedLst)\n",
    "\n",
    "limit24Char(s, 24)"
   ]
  },
  {
   "cell_type": "code",
   "execution_count": 4,
   "metadata": {},
   "outputs": [
    {
     "name": "stdout",
     "output_type": "stream",
     "text": [
      "['2', '6.50', '6,50']\n"
     ]
    }
   ],
   "source": [
    "#4.Proposer un programme qui renvoie la liste de tout les nombres\n",
    "#(ycompris décimaux et négatifs) d’une chaîne de caractères.\n",
    "#A tester sur la chaîne : « Les 2 maquereaux valent 6.50 euros ».\n",
    "from re import findall\n",
    "\n",
    "s = \"Les 2 maquereaux valent 6.50 euros 6,50\"\n",
    "\n",
    "motif = \"[\\d,.]\\d\"\n",
    "motif1 = '-?[0-9,.]*[0-9]'\n",
    "print(findall(motif1,s))"
   ]
  },
  {
   "cell_type": "code",
   "execution_count": 6,
   "metadata": {},
   "outputs": [
    {
     "name": "stdout",
     "output_type": "stream",
     "text": [
      "L'evolution sur 3,5jours est de 7.23 points\n"
     ]
    }
   ],
   "source": [
    "from re import *\n",
    "\n",
    "def tronc(s):\n",
    "    motif = \"(-?)([09-]+)[,.],[0-9]*\"\n",
    "    return sub(motif, r\"1\\1\\2\", s)\n",
    "\n",
    "s = \"L'evolution sur 3,5jours est de 7.23 points\"\n",
    "\n",
    "print(tronc(s))\n"
   ]
  }
 ],
 "metadata": {
  "kernelspec": {
   "display_name": "Python 3",
   "language": "python",
   "name": "python3"
  },
  "language_info": {
   "codemirror_mode": {
    "name": "ipython",
    "version": 3
   },
   "file_extension": ".py",
   "mimetype": "text/x-python",
   "name": "python",
   "nbconvert_exporter": "python",
   "pygments_lexer": "ipython3",
   "version": "3.7.6"
  }
 },
 "nbformat": 4,
 "nbformat_minor": 4
}
