{
 "cells": [
  {
   "cell_type": "code",
   "execution_count": 1,
   "metadata": {},
   "outputs": [],
   "source": [
    "import pandas as pd \n",
    "from sqlalchemy import create_engine\n",
    "from jinja2 import Template \n",
    "from jinja2 import Environment, FileSystemLoader\n",
    "import datetime\n",
    "import matplotlib.pyplot as plt\n",
    "from random import randint"
   ]
  },
  {
   "cell_type": "code",
   "execution_count": 2,
   "metadata": {},
   "outputs": [],
   "source": [
    "data = pd.read_csv(\"/Users/a0000/Desktop/premier-dossier/exo_netflix/netflix_titles.csv\")"
   ]
  },
  {
   "cell_type": "code",
   "execution_count": 3,
   "metadata": {},
   "outputs": [
    {
     "data": {
      "text/plain": [
       "2016"
      ]
     },
     "execution_count": 3,
     "metadata": {},
     "output_type": "execute_result"
    }
   ],
   "source": [
    "data.loc[1]['release_year']"
   ]
  },
  {
   "cell_type": "code",
   "execution_count": 4,
   "metadata": {},
   "outputs": [],
   "source": [
    "data['duration'] = data['duration'].str.replace(\" min\", \"\").str.replace(\" Season\", \"\").str.replace(\" season\", \"\").str.replace(\"s\", \"\").astype(int)\n",
    "data['release_year']= pd.to_datetime(data['release_year'])"
   ]
  },
  {
   "cell_type": "code",
   "execution_count": 5,
   "metadata": {},
   "outputs": [],
   "source": [
    "data['release_year'] = data['release_year'].astype(str)"
   ]
  },
  {
   "cell_type": "code",
   "execution_count": 6,
   "metadata": {},
   "outputs": [],
   "source": [
    "data['release_year'] = data['release_year'].str.replace(\"1970-01-01 00:00:00.00000\", \"01-01-\")"
   ]
  },
  {
   "cell_type": "code",
   "execution_count": 7,
   "metadata": {},
   "outputs": [],
   "source": [
    "data['release_year']= pd.to_datetime(data['release_year'])"
   ]
  },
  {
   "cell_type": "code",
   "execution_count": 8,
   "metadata": {},
   "outputs": [],
   "source": [
    "# data"
   ]
  },
  {
   "cell_type": "code",
   "execution_count": 9,
   "metadata": {},
   "outputs": [],
   "source": [
    "# table provisoire de travail ->\n",
    "\n",
    "tmp2 = data.loc[data[\"director\"].notna()][['title', 'director','cast', 'duration', 'release_year']]\n",
    "table_actor = pd.DataFrame(columns = ['title', 'director','cast', 'duration', 'release_year'])\n",
    "for i in range(tmp2.shape[0]):\n",
    "       \n",
    "    ane = tmp2.iloc[i]['release_year']\n",
    "    nba = tmp2.iloc[i]['cast']\n",
    "    tmp = tmp2.iloc[i][\"director\"].split(\", \")\n",
    "    show_id = [tmp2.iloc[i][\"title\"]]*len(tmp)\n",
    "    time = tmp2.iloc[i]['duration']\n",
    "    \n",
    "    df = pd.DataFrame({'title': show_id, 'director': tmp, 'cast': nba, 'duration': time, 'release_year':ane}, columns = ['title', 'director','cast', 'duration', 'release_year'])\n",
    "    table_actor = table_actor.append(df, ignore_index=True)\n",
    "\n",
    "#table_actor.head()"
   ]
  },
  {
   "cell_type": "code",
   "execution_count": 10,
   "metadata": {},
   "outputs": [],
   "source": [
    "# films_dir provisoire pour test ->\n",
    "\n",
    "film_dire = data.iloc[:3]"
   ]
  },
  {
   "cell_type": "code",
   "execution_count": 22,
   "metadata": {},
   "outputs": [
    {
     "name": "stdout",
     "output_type": "stream",
     "text": [
      "hello\n",
      "Edward Cotterill\n"
     ]
    }
   ],
   "source": [
    "# fonction random ->\n",
    "\n",
    "def random_list(table, colonne):\n",
    "    #y = table.iloc[randint(0, table.shape[0]-1)][colonne]\n",
    "    i = randint(0, table.shape[0]-1)\n",
    "    y =table.iloc[i][colonne]\n",
    "    return y\n",
    "reponse = random_list(table_actor, 'director')\n",
    "\n",
    "print(\"hello\")\n",
    "print(reponse)"
   ]
  },
  {
   "cell_type": "code",
   "execution_count": 12,
   "metadata": {},
   "outputs": [],
   "source": [
    "# fonction graph ->\n",
    "\n",
    "def dir_graph(table, colonne1, colonne2, title, xlabel, ylabel, save):\n",
    "    plt.figure(figsize = [7,5])\n",
    "    plt.subplot(111)\n",
    "    plt.plot(table[colonne1],table[colonne2])\n",
    "    plt.title(title)\n",
    "    plt.xlabel(xlabel)\n",
    "    plt.ylabel(ylabel)\n",
    "    plt.savefig(save, dpi = 50, format = \"png\")\n",
    "    plt.show()\n",
    "    plt.close()"
   ]
  },
  {
   "cell_type": "code",
   "execution_count": 13,
   "metadata": {},
   "outputs": [
    {
     "data": {
      "text/plain": [
       "\"\\ndir_graph(table_actor, 'duration', 'release_year', 'premier graph', 'durée', 'année', '/Users/a0000/Desktop/premier-dossier/dossier_jinja/dossier_jinja/photo1.png' )\\ndir_graph(table_actor, 'duration', 'release_year', 'deuxieme graph', 'durée', 'année', '/Users/a0000/Desktop/premier-dossier/dossier_jinja/dossier_jinja/photo2.png' )\\ndir_graph(table_actor, 'duration', 'release_year', 'troisieme graph', 'durée', 'année', '/Users/a0000/Desktop/premier-dossier/dossier_jinja/dossier_jinja/photo3.png' )\\n\""
      ]
     },
     "execution_count": 13,
     "metadata": {},
     "output_type": "execute_result"
    }
   ],
   "source": [
    "# test fonction graph ->\n",
    "\n",
    "\"\"\"\n",
    "dir_graph(table_actor, 'duration', 'release_year', 'premier graph', 'durée', 'année', '/Users/a0000/Desktop/premier-dossier/dossier_jinja/dossier_jinja/photo1.png' )\n",
    "dir_graph(table_actor, 'duration', 'release_year', 'deuxieme graph', 'durée', 'année', '/Users/a0000/Desktop/premier-dossier/dossier_jinja/dossier_jinja/photo2.png' )\n",
    "dir_graph(table_actor, 'duration', 'release_year', 'troisieme graph', 'durée', 'année', '/Users/a0000/Desktop/premier-dossier/dossier_jinja/dossier_jinja/photo3.png' )\n",
    "\"\"\""
   ]
  },
  {
   "cell_type": "code",
   "execution_count": 23,
   "metadata": {},
   "outputs": [],
   "source": [
    "# chemin + fichier à lire ->\n",
    "TMPL_DIR = \"/Users/a0000/Desktop\"\n",
    "fichier = \"base.html\"\n",
    "\n",
    "\n",
    "# chargement + lecture ->\n",
    "templateLoader = FileSystemLoader(searchpath=TMPL_DIR)\n",
    "templateEnv = Environment(loader = templateLoader)\n",
    "template = templateEnv.get_template(fichier)\n",
    "\n",
    "# variable JinjA ->\n",
    "data ={\n",
    "        'nom':reponse,\n",
    "        'time_stamp':datetime.datetime.now().strftime(\"%x %X\"),\n",
    "        'films_dir':film_dire\n",
    "    }\n",
    "\n",
    "# print new template ->\n",
    "#print(template.render(data))\n",
    "\n",
    "# ecriture du fichier et enregistrement ->\n",
    "outputText = template.render(data)\n",
    "html_file = open('/Users/a0000/Desktop/base2.html', 'w')\n",
    "html_file.write(outputText)\n",
    "html_file.close()\n"
   ]
  },
  {
   "cell_type": "code",
   "execution_count": null,
   "metadata": {},
   "outputs": [],
   "source": []
  },
  {
   "cell_type": "code",
   "execution_count": null,
   "metadata": {},
   "outputs": [],
   "source": []
  },
  {
   "cell_type": "code",
   "execution_count": null,
   "metadata": {},
   "outputs": [],
   "source": []
  },
  {
   "cell_type": "code",
   "execution_count": null,
   "metadata": {},
   "outputs": [],
   "source": []
  },
  {
   "cell_type": "code",
   "execution_count": null,
   "metadata": {},
   "outputs": [],
   "source": []
  },
  {
   "cell_type": "code",
   "execution_count": null,
   "metadata": {},
   "outputs": [],
   "source": []
  },
  {
   "cell_type": "code",
   "execution_count": null,
   "metadata": {},
   "outputs": [],
   "source": []
  },
  {
   "cell_type": "code",
   "execution_count": null,
   "metadata": {},
   "outputs": [],
   "source": []
  },
  {
   "cell_type": "code",
   "execution_count": null,
   "metadata": {},
   "outputs": [],
   "source": []
  },
  {
   "cell_type": "code",
   "execution_count": null,
   "metadata": {},
   "outputs": [],
   "source": []
  },
  {
   "cell_type": "code",
   "execution_count": null,
   "metadata": {},
   "outputs": [],
   "source": []
  },
  {
   "cell_type": "code",
   "execution_count": null,
   "metadata": {},
   "outputs": [],
   "source": []
  },
  {
   "cell_type": "code",
   "execution_count": null,
   "metadata": {},
   "outputs": [],
   "source": []
  },
  {
   "cell_type": "code",
   "execution_count": null,
   "metadata": {},
   "outputs": [],
   "source": []
  },
  {
   "cell_type": "code",
   "execution_count": 109,
   "metadata": {},
   "outputs": [
    {
     "data": {
      "text/plain": [
       "'/Users/a0000/Desktop/premier-dossier/dossier_jinja/dossier_jinja'"
      ]
     },
     "execution_count": 109,
     "metadata": {},
     "output_type": "execute_result"
    }
   ],
   "source": [
    "pwd"
   ]
  },
  {
   "cell_type": "code",
   "execution_count": null,
   "metadata": {},
   "outputs": [],
   "source": []
  },
  {
   "cell_type": "code",
   "execution_count": null,
   "metadata": {},
   "outputs": [],
   "source": []
  },
  {
   "cell_type": "code",
   "execution_count": null,
   "metadata": {},
   "outputs": [],
   "source": []
  }
 ],
 "metadata": {
  "kernelspec": {
   "display_name": "Python 3",
   "language": "python",
   "name": "python3"
  },
  "language_info": {
   "codemirror_mode": {
    "name": "ipython",
    "version": 3
   },
   "file_extension": ".py",
   "mimetype": "text/x-python",
   "name": "python",
   "nbconvert_exporter": "python",
   "pygments_lexer": "ipython3",
   "version": "3.8.3"
  }
 },
 "nbformat": 4,
 "nbformat_minor": 4
}
