{
 "cells": [
  {
   "cell_type": "code",
   "execution_count": 4,
   "metadata": {},
   "outputs": [],
   "source": [
    "import pandas as pd\n"
   ]
  },
  {
   "cell_type": "code",
   "execution_count": 5,
   "metadata": {},
   "outputs": [
    {
     "name": "stdout",
     "output_type": "stream",
     "text": [
      "   colone1  colone2 colone3\n",
      "a      1.1        2     oui\n",
      "b      2.7       10     non\n",
      "c      5.3        9     non\n"
     ]
    }
   ],
   "source": [
    "df= pd.DataFrame({'colonne1':[1.1, 2.7, 5.3], 'colonne2':[2, 10, 9], 'colonne3': ['oui', 'non', 'non']}, index = ['a', 'b', 'c'])\n",
    "\n",
    "print(df)"
   ]
  },
  {
   "cell_type": "code",
   "execution_count": 9,
   "metadata": {},
   "outputs": [
    {
     "data": {
      "text/plain": [
       "'/home/simplon'"
      ]
     },
     "execution_count": 9,
     "metadata": {},
     "output_type": "execute_result"
    }
   ],
   "source": [
    "%pwd\n"
   ]
  },
  {
   "cell_type": "code",
   "execution_count": 11,
   "metadata": {},
   "outputs": [
    {
     "name": "stdout",
     "output_type": "stream",
     "text": [
      "  consommation  cylindres  deplacement  puissance  poids  acceleration  \\\n",
      "0          mpg  cylindres  déplacement  puissance  poids  accélération   \n",
      "1           18          8          307        130   3504            12   \n",
      "2           15          8          350        165   3693          11.5   \n",
      "3           18          8          318        150   3436            11   \n",
      "4           16          8          304        150   3433            12   \n",
      "\n",
      "             annee  origine                        nom  \n",
      "0  année de modèle  origine          Nom de la voiture  \n",
      "1               70        1  chevrolet chevelle malibu  \n",
      "2               70        1          buick skylark 320  \n",
      "3               70        1         plymouth satellite  \n",
      "4               70        1              amc rebel sst  \n"
     ]
    }
   ],
   "source": [
    "nom_colonnes = ['consommation', 'cylindres', 'deplacement', 'puissance', 'poids', 'acceleration', 'annee', 'origine', 'nom']\n",
    "\n",
    "data = pd.read_excel('//home//simplon//Téléchargements//autompg.xlsx', index_col=None, header=None, names=nom_colonnes )\n",
    "\n",
    "print(data.head())"
   ]
  },
  {
   "cell_type": "code",
   "execution_count": null,
   "metadata": {},
   "outputs": [],
   "source": []
  },
  {
   "cell_type": "code",
   "execution_count": null,
   "metadata": {},
   "outputs": [],
   "source": []
  },
  {
   "cell_type": "code",
   "execution_count": null,
   "metadata": {},
   "outputs": [],
   "source": []
  },
  {
   "cell_type": "code",
   "execution_count": null,
   "metadata": {},
   "outputs": [],
   "source": []
  },
  {
   "cell_type": "code",
   "execution_count": null,
   "metadata": {},
   "outputs": [],
   "source": []
  },
  {
   "cell_type": "code",
   "execution_count": null,
   "metadata": {},
   "outputs": [],
   "source": []
  },
  {
   "cell_type": "code",
   "execution_count": null,
   "metadata": {},
   "outputs": [],
   "source": []
  },
  {
   "cell_type": "code",
   "execution_count": null,
   "metadata": {},
   "outputs": [],
   "source": []
  },
  {
   "cell_type": "code",
   "execution_count": null,
   "metadata": {},
   "outputs": [],
   "source": []
  },
  {
   "cell_type": "code",
   "execution_count": null,
   "metadata": {},
   "outputs": [],
   "source": []
  },
  {
   "cell_type": "code",
   "execution_count": null,
   "metadata": {},
   "outputs": [],
   "source": []
  }
 ],
 "metadata": {
  "kernelspec": {
   "display_name": "Python 3",
   "language": "python",
   "name": "python3"
  },
  "language_info": {
   "codemirror_mode": {
    "name": "ipython",
    "version": 3
   },
   "file_extension": ".py",
   "mimetype": "text/x-python",
   "name": "python",
   "nbconvert_exporter": "python",
   "pygments_lexer": "ipython3",
   "version": "3.7.6"
  }
 },
 "nbformat": 4,
 "nbformat_minor": 4
}
