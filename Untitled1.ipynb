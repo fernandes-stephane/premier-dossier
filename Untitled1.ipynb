{
 "cells": [
  {
   "cell_type": "code",
   "execution_count": 9,
   "metadata": {},
   "outputs": [
    {
     "name": "stdout",
     "output_type": "stream",
     "text": [
      "Entrez votre nombre : 12\n",
      "le nombre 12 est paire\n"
     ]
    }
   ],
   "source": [
    "a = int(input(\"Entrez votre nombre : \"))\n",
    "\n",
    "if (a%2) == 0: \n",
    "    print(\"le nombre \"+ str(a)+ \" est paire\")\n",
    "else:\n",
    "    print(\"le nombre \"+ str(a) + \" est impair\")"
   ]
  },
  {
   "cell_type": "code",
   "execution_count": null,
   "metadata": {},
   "outputs": [],
   "source": [
    "a = int(input(\"AB : \"))\n",
    "b = int(input(\"BC : \"))\n",
    "c = int(input(\"AC : \"))\n",
    "\n",
    "if (a**2) == ((b**2)+(c**2)) or (b**2) == ((a**2)+(c**2)) or (c**2) == ((a**2)+(b**2)):\n",
    "    print(\"le triangle est rectangle!\")\n",
    "else:\n",
    "    print(\"le triangle n'est pas rectangle!\")"
   ]
  },
  {
   "cell_type": "code",
   "execution_count": 2,
   "metadata": {},
   "outputs": [
    {
     "name": "stdout",
     "output_type": "stream",
     "text": [
      "Entrez le prix : 1\n",
      "1.2\n",
      "Entrez le prix : 0\n",
      "le calcul est fini\n"
     ]
    }
   ],
   "source": [
    "prix = int(input(\"Entrez le prix : \"))\n",
    "\n",
    "while prix != 0:\n",
    "    prix = prix +((prix * 20)/100)\n",
    "    print(prix)\n",
    "    prix = int(input(\"Entrez le prix : \"))\n",
    "    \n",
    "print(\"le calcul est fini\")"
   ]
  },
  {
   "cell_type": "code",
   "execution_count": 12,
   "metadata": {},
   "outputs": [
    {
     "name": "stdout",
     "output_type": "stream",
     "text": [
      "[1, 2, 3, 4, 5, 7, 8, 9]\n"
     ]
    }
   ],
   "source": [
    "L1 = [2, 7, 3, 1, 5, 7, 1]\n",
    "L2 = [8, 5, 9, 4, 1, 1, 5]\n",
    "L3 = list(set(L1 + L2))\n",
    "\n",
    "\n",
    "\n",
    "\n",
    "print(L3)"
   ]
  },
  {
   "cell_type": "code",
   "execution_count": 11,
   "metadata": {},
   "outputs": [
    {
     "name": "stdout",
     "output_type": "stream",
     "text": [
      "no\n"
     ]
    }
   ],
   "source": [
    "liste1 = [1, 2, 3, 4, 3, 2, 1]\n",
    "liste2 = liste1.copy()\n",
    "liste2.reverse()\n",
    "if liste1 == liste2:\n",
    "    print(\"yes\")\n",
    "else:\n",
    "    print(\"no\")\n"
   ]
  },
  {
   "cell_type": "code",
   "execution_count": 46,
   "metadata": {},
   "outputs": [
    {
     "name": "stdout",
     "output_type": "stream",
     "text": [
      "0 est la place place de  steph\n",
      "1 est la place place de  flo\n",
      "2 est la place place de  raf\n",
      "3 est la place place de  4\n",
      "4 est la place place de  5\n"
     ]
    }
   ],
   "source": [
    "import random\n",
    "\n",
    "liste = [\"steph\", \"flo\", \"raf\", 4, 5]\n",
    "#random.shuffle(liste)\n",
    "\n",
    "for i in range(len(liste)):\n",
    "    print(i,\"est la place place de \", liste[i])\n"
   ]
  },
  {
   "cell_type": "code",
   "execution_count": 43,
   "metadata": {},
   "outputs": [
    {
     "name": "stdout",
     "output_type": "stream",
     "text": [
      "steph\n",
      "steph\n",
      "steph\n",
      "steph\n",
      "steph\n",
      "steph\n",
      "steph\n",
      "steph\n",
      "steph\n",
      "steph\n"
     ]
    }
   ],
   "source": [
    "for i in range(10):\n",
    "    print(\"steph\")"
   ]
  },
  {
   "cell_type": "code",
   "execution_count": null,
   "metadata": {},
   "outputs": [],
   "source": []
  }
 ],
 "metadata": {
  "kernelspec": {
   "display_name": "Python 3",
   "language": "python",
   "name": "python3"
  },
  "language_info": {
   "codemirror_mode": {
    "name": "ipython",
    "version": 3
   },
   "file_extension": ".py",
   "mimetype": "text/x-python",
   "name": "python",
   "nbconvert_exporter": "python",
   "pygments_lexer": "ipython3",
   "version": "3.7.6"
  }
 },
 "nbformat": 4,
 "nbformat_minor": 4
}
